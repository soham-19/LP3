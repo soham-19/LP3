{
 "cells": [
  {
   "cell_type": "markdown",
   "id": "0171f0d1-0893-470e-bc43-2b0e1d8549be",
   "metadata": {},
   "source": [
    "# Gradient Descent Algorithm"
   ]
  },
  {
   "cell_type": "markdown",
   "id": "051df48a-6e2f-4126-bb19-7b20404c6d06",
   "metadata": {},
   "source": [
    "#### find the local minima of the function y=(x+3)² starting from the point x=2"
   ]
  },
  {
   "cell_type": "markdown",
   "id": "ed87931c-1c7e-46e5-b3bc-153857aef8e2",
   "metadata": {},
   "source": [
    "# CODE"
   ]
  },
  {
   "cell_type": "markdown",
   "id": "29ff2726-243d-4eb0-b8be-42c7557be358",
   "metadata": {},
   "source": [
    "##### Initialize Variables"
   ]
  },
  {
   "cell_type": "code",
   "execution_count": 1,
   "id": "620cd562-95a1-4362-bbcf-2022c2582932",
   "metadata": {},
   "outputs": [],
   "source": [
    "curr_x = 2\n",
    "precision = 0.000001\n",
    "rate = 0.01\n",
    "delta_x = 1\n",
    "max_it = 100000\n",
    "it = 0"
   ]
  },
  {
   "cell_type": "code",
   "execution_count": 2,
   "id": "3a4fdaa1-3ac6-4553-9097-435709da61e0",
   "metadata": {},
   "outputs": [],
   "source": [
    "def slope(x):\n",
    "    return 2*(x+3)"
   ]
  },
  {
   "cell_type": "code",
   "execution_count": 3,
   "id": "09db0141-cefb-4e87-9de1-54c4810dfdad",
   "metadata": {},
   "outputs": [],
   "source": [
    "def val_y(x):\n",
    "    return (x+3)**2"
   ]
  },
  {
   "cell_type": "code",
   "execution_count": 4,
   "id": "fad4f12d-5a0a-45a3-be52-7c178d2488b4",
   "metadata": {},
   "outputs": [],
   "source": [
    "x = []\n",
    "y = []\n",
    "x.append(curr_x)\n",
    "y.append(val_y(curr_x))"
   ]
  },
  {
   "cell_type": "code",
   "execution_count": 6,
   "id": "9249f2bb-52bf-4eeb-bfe9-ced8a946c8d1",
   "metadata": {},
   "outputs": [
    {
     "name": "stdout",
     "output_type": "stream",
     "text": [
      "Local Minima: x = -2.999951128099859\n"
     ]
    }
   ],
   "source": [
    "while it < max_it and delta_x > precision:\n",
    "    prev_x = curr_x\n",
    "    curr_x = prev_x - rate * slope(prev_x)\n",
    "    \n",
    "    it += 1\n",
    "    delta_x = abs(curr_x - prev_x)\n",
    "\n",
    "    x.append(curr_x)\n",
    "    y.append(val_y(curr_x))\n",
    "\n",
    "print(f\"Local Minima: x = {curr_x}\")"
   ]
  },
  {
   "cell_type": "code",
   "execution_count": 8,
   "id": "73be824f-5411-4f62-90a4-3f7b36136275",
   "metadata": {},
   "outputs": [
    {
     "data": {
      "image/png": "[encoded data removed]",
      "text/plain": [
       "<Figure size 640x480 with 1 Axes>"
      ]
     },
     "metadata": {},
     "output_type": "display_data"
    }
   ],
   "source": [
    "import matplotlib.pyplot as plt\n",
    "plt.scatter(x, y, color = 'green', label = 'Gradient Descedent Path')\n",
    "plt.xlabel('x values')\n",
    "plt.ylabel('y values')\n",
    "plt.title('y=(x+3)^2')\n",
    "plt.legend()\n",
    "plt.show()"
   ]
  },
  {
   "cell_type": "markdown",
   "id": "1f2f7280-5642-4cc4-bb24-7f3fd4eb6115",
   "metadata": {},
   "source": [
    "Here’s a concise breakdown of the **Gradient Descent Algorithm** and the example you've provided:\n",
    "\n",
    "### Gradient Descent Overview\n",
    "- **Purpose**: To minimize a function by iteratively moving towards the steepest descent (local minima).\n",
    "- **Key Components**:\n",
    "  - **Learning Rate (α)**: Controls the size of the steps taken towards the minimum.\n",
    "  - **Gradient**: The slope of the function, calculated as the derivative; indicates the direction of steepest ascent.\n",
    "  - **Convergence Criteria**: Determines when to stop the algorithm, often based on the change in x or the number of iterations.\n",
    "\n",
    "### Steps in the Algorithm\n",
    "1. **Initialization**:\n",
    "   - Start with an initial guess (e.g., \\( x = 2 \\)).\n",
    "   - Set the learning rate (e.g., \\( \\text{rate} = 0.01 \\)).\n",
    "   - Define precision for convergence (e.g., \\( \\text{precision} = 0.000001 \\)).\n",
    "   - Initialize iteration count and delta value.\n",
    "\n",
    "2. **Iteration Process**:\n",
    "   - Compute the gradient (slope) using the derivative of the function.\n",
    "   - Update the current position:\n",
    "     \\[\n",
    "     \\text{curr\\_x} = \\text{prev\\_x} - \\text{rate} \\times \\text{slope(prev\\_x)}\n",
    "     \\]\n",
    "   - Calculate the new function value and record the path.\n",
    "   - Check if the change (\\( \\delta_x \\)) is less than precision or if the maximum iterations are reached.\n",
    "\n",
    "3. **Termination**:\n",
    "   - Stop when the change in x is minimal or the maximum number of iterations is reached.\n",
    "   - The final x value is the local minimum.\n",
    "\n",
    "### Example Function: \\( y = (x + 3)^2 \\)\n",
    "- **Derivative**: \\( \\frac{dy}{dx} = 2(x + 3) \\)\n",
    "- **Starting Point**: \\( x = 2 \\)\n",
    "- **Expected Minimum**: Occurs at \\( x = -3 \\)\n",
    "\n",
    "### Code Summary\n",
    "- Initializes variables and computes the gradient descent.\n",
    "- Visualizes the descent path using scatter and line plots.\n",
    "- Marks start and minimum points for clarity.\n",
    "\n",
    "### Key Outputs\n",
    "- **Final Minima**: Print the local minima after convergence.\n",
    "- **Visualization**: Helps in understanding the descent path and the behavior of the function.\n",
    "\n",
    "### Tips for Understanding\n",
    "- **Gradient Understanding**: Focus on how the gradient indicates the direction and steepness.\n",
    "- **Learning Rate Impact**: Experiment with different rates to see convergence behavior.\n",
    "- **Precision and Iterations**: Analyze how stopping criteria affect the accuracy of the solution.\n",
    "\n",
    "This structure should help you grasp the essential concepts of the gradient descent algorithm and apply them effectively in your exam."
   ]
  }
 ],
 "metadata": {
  "kernelspec": {
   "display_name": "Python 3 (ipykernel)",
   "language": "python",
   "name": "python3"
  },
  "language_info": {
   "codemirror_mode": {
    "name": "ipython",
    "version": 3
   },
   "file_extension": ".py",
   "mimetype": "text/x-python",
   "name": "python",
   "nbconvert_exporter": "python",
   "pygments_lexer": "ipython3",
   "version": "3.12.3"
  }
 },
 "nbformat": 4,
 "nbformat_minor": 5
}
