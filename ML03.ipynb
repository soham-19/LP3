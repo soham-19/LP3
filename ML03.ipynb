{
 "cells": [
  {
   "cell_type": "markdown",
   "id": "b927a7ee-dba0-49c0-a5ef-f12961b09ff9",
   "metadata": {},
   "source": [
    "# A3"
   ]
  },
  {
   "cell_type": "markdown",
   "id": "9aae5ae1-938b-4e10-b826-9e0117eae6a1",
   "metadata": {},
   "source": [
    "Given a bank customer, build a neural network-based classifier that can determine whether\n",
    "they will leave or not in the next 6 months.\n",
    "Dataset Description: The case study is from an open-source dataset from Kaggle.\n",
    "The dataset contains 10,000 sample points with 14 distinct features such as\n",
    "CustomerId, CreditScore, Geography, Gender, Age, Tenure, Balance, etc.\n",
    "Link to the Kaggle project:\n",
    "https://www.kaggle.com/barelydedicated/bank-customer-churn-modeling\n",
    "Perform following steps:\n",
    "1. Read the dataset.\n",
    "2. Distinguish the feature and target set and divide the data set into training and test sets.\n",
    "3. Normalize the train and test data.\n",
    "4. Initialize and build the model. Identify the points of improvement and implement the same.\n",
    "5. Print the accuracy score and confusion matrix (5 points).\n"
   ]
  },
  {
   "cell_type": "code",
   "execution_count": 1,
   "id": "ed791b43-dbd2-4c76-9465-624b9a53ce4d",
   "metadata": {},
   "outputs": [],
   "source": [
    "import pandas as pd\n",
    "import numpy as np"
   ]
  },
  {
   "cell_type": "code",
   "execution_count": 2,
   "id": "682300d1-e30d-48d3-b18b-ddda12a922ec",
   "metadata": {},
   "outputs": [],
   "source": [
    "import seaborn as sns\n",
    "import matplotlib.pyplot as plt"
   ]
  },
  {
   "cell_type": "code",
   "execution_count": 3,
   "id": "2b7bd1ff-b925-4e6d-a177-66c92d9ed9a7",
   "metadata": {},
   "outputs": [],
   "source": [
    "df = pd.read_csv('churn.csv')"
   ]
  },
  {
   "cell_type": "code",
   "execution_count": 4,
   "id": "33fcdd2a-ec50-4712-a32b-178cbf03949c",
   "metadata": {},
   "outputs": [
    {
     "data": {
      "text/plain": [
       "Index(['RowNumber', 'CustomerId', 'Surname', 'CreditScore', 'Geography',\n",
       "       'Gender', 'Age', 'Tenure', 'Balance', 'NumOfProducts', 'HasCrCard',\n",
       "       'IsActiveMember', 'EstimatedSalary', 'Exited'],\n",
       "      dtype='object')"
      ]
     },
     "execution_count": 4,
     "metadata": {},
     "output_type": "execute_result"
    }
   ],
   "source": [
    "df.columns"
   ]
  },
  {
   "cell_type": "code",
   "execution_count": 5,
   "id": "51f2d7fb-8b30-4a36-b6bd-5d9d9c3bbd23",
   "metadata": {},
   "outputs": [],
   "source": [
    "# Step 2: Data preprocessing \n",
    "df.drop(columns=['RowNumber', 'CustomerId', 'Surname', 'Geography', 'Gender'], inplace=True)"
   ]
  },
  {
   "cell_type": "code",
   "execution_count": 6,
   "id": "e06f5865-ab99-447f-8baa-2889ce115d8b",
   "metadata": {},
   "outputs": [
    {
     "data": {
      "text/plain": [
       "CreditScore          int64\n",
       "Age                  int64\n",
       "Tenure               int64\n",
       "Balance            float64\n",
       "NumOfProducts        int64\n",
       "HasCrCard            int64\n",
       "IsActiveMember       int64\n",
       "EstimatedSalary    float64\n",
       "Exited               int64\n",
       "dtype: object"
      ]
     },
     "execution_count": 6,
     "metadata": {},
     "output_type": "execute_result"
    }
   ],
   "source": [
    "df.dtypes"
   ]
  },
  {
   "cell_type": "code",
   "execution_count": 7,
   "id": "46305cd6-ddb2-44ef-81ef-bdfa89e0c275",
   "metadata": {},
   "outputs": [],
   "source": [
    "# Step 3: Prepare the feature set (X) and target set (y)\n",
    "X=df.iloc[:,1:-1].values\n",
    "y=df.iloc[:,-1].values"
   ]
  },
  {
   "cell_type": "code",
   "execution_count": 8,
   "id": "14b11b30-09f2-47fe-9427-4b6eeaed2aa9",
   "metadata": {},
   "outputs": [],
   "source": [
    "from sklearn.model_selection import train_test_split\n",
    "# Step 4: Split the data into training and testing sets\n",
    "X_train, X_test, y_train, y_test = train_test_split(X, y, test_size=0.25, random_state=20)"
   ]
  },
  {
   "cell_type": "code",
   "execution_count": 9,
   "id": "0e8e7a2b-67fa-4693-b6c1-61c1faecb1da",
   "metadata": {},
   "outputs": [],
   "source": [
    "# Step 5: Normalize the data\n",
    "from sklearn.preprocessing import StandardScaler\n",
    "scaler = StandardScaler()\n",
    "X_train = scaler.fit_transform(X_train)\n",
    "X_test = scaler.transform(X_test)"
   ]
  },
  {
   "cell_type": "code",
   "execution_count": 10,
   "id": "514611b0-0eb1-4180-b1df-4c6f7f46d5d7",
   "metadata": {},
   "outputs": [],
   "source": [
    "# Step 9 (Optional): Try a different classifier (MLPClassifier from sklearn)\n",
    "from sklearn.neural_network import MLPClassifier\n",
    "\n",
    "nn_classifier = MLPClassifier(hidden_layer_sizes=(100), activation='logistic', max_iter=300)\n",
    "nn_classifier.fit(X_train, y_train)\n",
    "y_pred2 = nn_classifier.predict(X_test)"
   ]
  },
  {
   "cell_type": "code",
   "execution_count": 11,
   "id": "1921bc34-5a5f-4392-a167-e30463819ea8",
   "metadata": {},
   "outputs": [
    {
     "name": "stdout",
     "output_type": "stream",
     "text": [
      "Sklearn Model Accuracy: 0.8616\n"
     ]
    }
   ],
   "source": [
    "# Evaluate the sklearn model\n",
    "from sklearn.metrics import accuracy_score, confusion_matrix\n",
    "accuracy_sklearn = accuracy_score(y_test, y_pred2)\n",
    "print(\"Sklearn Model Accuracy:\", accuracy_sklearn)"
   ]
  },
  {
   "cell_type": "code",
   "execution_count": 12,
   "id": "3e1c3377-5583-4894-ab93-111042dbf78e",
   "metadata": {},
   "outputs": [
    {
     "data": {
      "text/plain": [
       "<Axes: >"
      ]
     },
     "execution_count": 12,
     "metadata": {},
     "output_type": "execute_result"
    },
    {
     "data": {
      "image/png": "[encoded data removed]",
      "text/plain": [
       "<Figure size 640x480 with 2 Axes>"
      ]
     },
     "metadata": {},
     "output_type": "display_data"
    }
   ],
   "source": [
    "# Display confusion matrix for sklearn model\n",
    "cm_sklearn = confusion_matrix(y_test, y_pred2)\n",
    "sns.heatmap(cm_sklearn, annot=True)"
   ]
  },
  {
   "cell_type": "markdown",
   "id": "de62ec82-a8f3-4b0f-a7b2-94e4cba947af",
   "metadata": {},
   "source": [
    "Explanation of Important Concepts:\n",
    "Data Normalization: It transforms features to have a mean of 0 and a variance of 1, which helps neural networks converge faster and improves performance.\n",
    "\n",
    "MLP Classifier: This is a type of feedforward artificial neural network where:\n",
    "\n",
    "hidden_layer_sizes: Defines the number of neurons in the hidden layers. You can experiment with this to improve model performance.\n",
    "activation: Specifies the activation function, with 'logistic' indicating a logistic sigmoid function.\n",
    "max_iter: The maximum number of iterations for the optimization algorithm.\n",
    "Confusion Matrix: A table used to evaluate the performance of a classification algorithm, showing true positives, true negatives, false positives, and false negatives."
   ]
  },
  {
   "cell_type": "markdown",
   "id": "6f864437-3034-4fd6-a8e0-dc57a1665c20",
   "metadata": {},
   "source": [
    "Here's a concise theory overview of the confusion matrix, including its components, importance, and how to interpret it.\n",
    "\n",
    "### Confusion Matrix Overview\n",
    "\n",
    "#### Definition\n",
    "A confusion matrix is a table used to evaluate the performance of a classification algorithm. It summarizes the prediction results on a classification problem, providing a comprehensive view of how well the model is performing.\n",
    "\n",
    "#### Components of the Confusion Matrix\n",
    "For a binary classification problem, the confusion matrix typically has four components:\n",
    "\n",
    "1. **True Positives (TP)**:\n",
    "   - The number of instances correctly predicted as positive.\n",
    "   \n",
    "2. **True Negatives (TN)**:\n",
    "   - The number of instances correctly predicted as negative.\n",
    "\n",
    "3. **False Positives (FP)**:\n",
    "   - The number of instances incorrectly predicted as positive (Type I error).\n",
    "\n",
    "4. **False Negatives (FN)**:\n",
    "   - The number of instances incorrectly predicted as negative (Type II error).\n",
    "\n",
    "#### Structure\n",
    "The confusion matrix can be represented as follows:\n",
    "\n",
    "|                  | Predicted Positive | Predicted Negative |\n",
    "|------------------|--------------------|--------------------|\n",
    "| **Actual Positive** | True Positives (TP)   | False Negatives (FN)  |\n",
    "| **Actual Negative** | False Positives (FP)  | True Negatives (TN)   |\n",
    "\n",
    "#### Importance of the Confusion Matrix\n",
    "- **Performance Measurement**: It provides a detailed breakdown of how the classifier is performing, helping to identify not only the accuracy but also where the model is making mistakes.\n",
    "- **Insight into Class Imbalance**: It helps to reveal whether the model is biased towards one class, especially in imbalanced datasets.\n",
    "- **Calculation of Other Metrics**: From the confusion matrix, other performance metrics can be derived, such as:\n",
    "  - **Accuracy**: \\((TP + TN) / (TP + TN + FP + FN)\\)\n",
    "  - **Precision**: \\(TP / (TP + FP)\\) (also known as Positive Predictive Value)\n",
    "  - **Recall (Sensitivity)**: \\(TP / (TP + FN)\\) (also known as True Positive Rate)\n",
    "  - **F1 Score**: The harmonic mean of precision and recall, given by \\(2 \\times (Precision \\times Recall) / (Precision + Recall)\\)\n",
    "  - **Specificity**: \\(TN / (TN + FP)\\) (True Negative Rate)\n",
    "\n",
    "#### Interpretation\n",
    "- A high number of TP indicates that the model correctly identifies positive instances.\n",
    "- A high number of TN indicates that the model correctly identifies negative instances.\n",
    "- A high number of FP suggests that the model is incorrectly classifying negative instances as positive, which may be problematic depending on the context (e.g., predicting diseases).\n",
    "- A high number of FN indicates that the model is failing to identify positive instances, which could also be critical (e.g., missing potential churners in a bank).\n",
    "\n",
    "#### Visualization\n",
    "- Confusion matrices can be visualized using heatmaps, making it easier to identify areas of misclassification and overall performance visually.\n",
    "\n",
    "### Conclusion\n",
    "The confusion matrix is a fundamental tool in the evaluation of classification models. It provides insights into both the strengths and weaknesses of a model, guiding improvements and helping to understand the model's behavior in detail."
   ]
  },
  {
   "cell_type": "code",
   "execution_count": null,
   "id": "b065a82d-210f-41f0-92f6-0cb56d06f81f",
   "metadata": {},
   "outputs": [],
   "source": []
  }
 ],
 "metadata": {
  "kernelspec": {
   "display_name": "Python 3 (ipykernel)",
   "language": "python",
   "name": "python3"
  },
  "language_info": {
   "codemirror_mode": {
    "name": "ipython",
    "version": 3
   },
   "file_extension": ".py",
   "mimetype": "text/x-python",
   "name": "python",
   "nbconvert_exporter": "python",
   "pygments_lexer": "ipython3",
   "version": "3.12.3"
  }
 },
 "nbformat": 4,
 "nbformat_minor": 5
}
